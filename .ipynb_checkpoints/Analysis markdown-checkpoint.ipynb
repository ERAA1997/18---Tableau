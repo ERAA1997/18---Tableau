{
 "cells": [
  {
   "cell_type": "markdown",
   "id": "966cc7e1",
   "metadata": {},
   "source": [
    "Tableau link: https://public.tableau.com/app/profile/eoghan.alton/vizzes\n",
    "\n",
    "Data\n",
    "\n",
    "The datasets for this visualization challenge were obtained from the Citi bike website. One of the suggestions for this challenge was to limit the number of files to 1-3. I have selected the data set for June and Dec 2023. I chose these months as I wanted to investigate the impact of seasonality on the data.\n",
    "\n",
    "Data cleaning and concatenation\n",
    "\n",
    "I used a Jupyter Notebook file to import, clean, and concatenate the datasets. This Jupyter Notebook can be found within this repository. Due to time constraints, the “started at hour” column was created using Excel formulas LEFT and RIGHT to leave only the starting hour.\n",
    "\n",
    "Analysis\n",
    "\n",
    "Map (please use Trips Overview dashboard or Story 1)\n",
    "\n",
    "Using the data from the Citi Bike website I chose to display the end stations with the most rides end there. To avoid repetition, I did not repeat the same map with start stations. The map contains a selector for a month to switch between the June and December data. I have included two bubble charts to highlight the top 10 most popular starting and end stations for a ride. A deeper analysis may include these top 10 stations plotted geographically to understand the relationship. It would also be interesting to see which are the most common routes and investigate if there any bottlenecks such as not enough bikes. At the same time, we could try to understand what makes these routes so popular and evaluate other routes to increase traffic and revenue.\n",
    "\n",
    "December:\n",
    "\n",
    "From the visualisation we can see the most used stations as an endpoint for rides is in Jersey City and Hoboken. The island of Manhattan and Brooklyn also have some frequently used stops but not nearly to the same extent.\n",
    "\n",
    "June:\n",
    "\n",
    "The trends for most popular end stations remain quite similar in June. However, the bigger differences can be seen in the less frequently used stations. Manhattan, particularly lower Manhattan sees an increase of stations being highlighted. I would attribute this to the summer weather, possibly an influx of tourists and there are longer hours of daylight. Interestingly, the stations in Brooklyn disappear almost entirely with new stations appearing in Queens and the Bronx. I am not sure what to attribute this to. Further analysis would need to be conducted.\n",
    "\n",
    "\n",
    "User habits \n",
    "\n",
    "(Please use User Type dashboard)\n",
    "\n",
    "I also wanted to understand when users’ habits within the data. I first looked at the number of trips by both the “member” and “casual” users. Starting with the member users, it is clear to see that there were more trips in June. The drop in rides in December is likely due to less favourable weather and the holiday period. The casual users also display the same trend of more trips in June than in December. I would assume for the same reasons as with the members. There is however, a greater percentage reduction for casual like caused by a reduction in tourists using the Citi Bikes.\n",
    "Following looking at the number of trips taken, I wanted to look at what types of bikes were used for these trips again split by user type to understand the trends. The classic bike is the most of the two types. This could be because there are more available than electric. This would need to be analysed in greater detail. A surprising trend is the dramatic drop in the use of electric bikes in December. I wonder what the reason would be, perhaps unreliability? This would again need to be analysed in greater detail.\n",
    "\n",
    "(Please use Trip Duration dashboard)\n",
    "\n",
    "Now that we have looked at the number of trips and by what type of bike, I was interested in understanding on average how long the trips were and how they fluctuate throughout the day. One immediate difference is the difference in the average trip length between users. The causal member has a far greater average trip duration in both June and December. I would assume that the members are users who live and work in proximity but without user data, this cannot be confirmed. The average trip length being longer for casual users doesn’t surprise me as they might be opportunistic users or tourists who wish to explore.\n",
    "I also thought it would be interesting to see the number of trips per hour comparing both months. While both display a twin peak. Another deeper analysis could be conducted between the user types and how the overall patterns differ to ensure stations are properly stocked.\n",
    "Overall, I think seasonality does play a role in user habitats for both casual and member users. There is lots of room for further analysis to identify more trends.\n",
    "\n",
    "Limitations\n",
    "\n",
    "This dataset only contains two months from a single year. To get a more comprehensive understanding of the trends of time it would be important to use every month over multiple years. Another limitation is the fact there is no data regarding the users themselves other than member or casual users. This makes it difficult to delve any deeper into the habits and potential opportunities. \n",
    "\n",
    "Resources\n",
    "\n",
    "For this challenge, I used material covered in class for reference. I took advantage of a tutoring session to get assistance in understanding Tableau’s functionality more. To understand the datetime functionality, I used open AI and YouTube to explain how to split the data into new columns.\n",
    "\n",
    "Dataset source: https://citibikenyc.com/system-data\n"
   ]
  }
 ],
 "metadata": {
  "kernelspec": {
   "display_name": "Python 3 (ipykernel)",
   "language": "python",
   "name": "python3"
  },
  "language_info": {
   "codemirror_mode": {
    "name": "ipython",
    "version": 3
   },
   "file_extension": ".py",
   "mimetype": "text/x-python",
   "name": "python",
   "nbconvert_exporter": "python",
   "pygments_lexer": "ipython3",
   "version": "3.10.13"
  }
 },
 "nbformat": 4,
 "nbformat_minor": 5
}
